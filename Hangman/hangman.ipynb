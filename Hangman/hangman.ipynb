import random 
#input number of wrong guesses, print the hangeman
def PrintHangman(value):
    print()
    print()
    print (" +", end = " ")
    count=0
    while count<3:
        print ("-", end = " ")
        count+=1
    print ("+")
    print (" |", end = " ")
    count=0
    while count<2:
        print ("  ", end = " ")
        count+=1
    print ("|")
    print (" o", end = " ")
    count=0
    while count<2:
        print ("  ", end = " ")
        count+=1
    print ("|")
    
    if(value > 1):
        print("/", end = "")
    else:
        print(" ", end = "")
    if(value > 2):
        print("|", end = "")
    else:
        print(" ", end = "")
    if(value > 3):
        print("\\", end = "")
    else:
        print(" ", end = "")
    print ("  ", end = " ")
    print ("   |")

    if(value > 4):
        print("/", end = "")
    else:
        print(" ", end = "")
    if(value > 5):
        print(" \\", end = "")
    else:
        print("  ", end = "")
    print ("  ", end = " ")
    print ("   |")
    
    print ("==========")

#collection of word, can read from text file 
listofwords = ["faiazana","Fast", "programming", "Student", "are", "lazy", "hangmen"] 

#checking whether guessed alphabet is correct or wrong
#return the indexes where guessed alphabet fits 
def check(guess, completeword, guessingword):
    #guess id a alphabet, completeword is full word and 
    #guessingword is word which is displayed to user 
    i = 1
    #list to store the index where
    index = []        
    #iterate that complete word guessed alphabet fits
    while (i < len(completeword)):
        if(guessingword[i] == '_' and completeword[i] == guess):
            #if guess alphabet is correct then store it index in list
            index.append(i)
        i += 2
    return index
    
#taking random number between 0 to length of listofwords-1
x=round ( random.random() *(len(listofwords)-1) )
x=int(x)
#pick randomword
string1=listofwords[x]
length=len (string1)
counter=0
#string with hidden alphabets
string=''
#replacing even alphabets to _
while counter<length:
    if counter%2==1:
        
        string+="_"
    else:
        
        string+=string1[counter]
    counter+=1

ok=0
reject=0
counter=1
#loop untill user win or loss
while reject<=5 and ok<=(length/2)-1:
    print(string)
    print("Enter guess")
    n=input('enter any words :')
    #checking guess alphabet
    index = check(n,string1,string)
    if len(index) > 0 :
        #guess character is correct
        list1 = list(string)
        for i in range(0,len(index)):
            list1[ index[i]] = n
        string = ''.join(list1)
        print ("input correct")
        print ("it is at index:", index)
        ok += len(index)
    else:
        #gues character is wrong
        PrintHangman(reject+1)
        print ("wrong guess")
        reject+=1
    print()
    print()
print("###########")
if(reject == 6):
    print("  you loss")
else:
    print("  you win")
print ("Game Over")
print("###########")

#Question20
def divider():
    out = "+"
    i = 0
    while i<12:
        if not(i%2):
            out+="-"
        else:
            out+="*"
        i+=1
    out+="+"
    print (out)
def headtail():
    i = 0
    sp = 5
    while i<5:
        out = ""
        j = 0
        while j <sp:
            out +=" "
            j+=1
        j = 0
        while j<1+i:
            out+="/"
            j+=1
        out+="**"
        j = 0
        while j<1+i:
            out+="\\"
            j+=1
        sp-=1
        print (out)
        i+=1
def body(n):
    i = 0
    while i<n:
        j = 0
        if not(i%2):
            dots = 2
            sym_size = 1
            sym = "/\\"
        else:
            dots = 0
            sym_size = 3
            sym = "\\/"
        while j <6:
            out = "|"
            k =0
            while k<2:
                l = 0
                while l<dots:
                    out+="."
                    l+=1
                l = 0
                while l<sym_size:
                    out+=sym
                    l+=1
                l = 0
                while l<dots:
                    out+="."
                    l+=1
                k+=1
            out+="|"
            print (out)
            j+=1
            if (j<3 and not(i%2)) or (j>3 and i%2):
                dots-=1
                sym_size+=1
            elif j==3 and not(i%2):
                sym = "\\/"
            elif j==3 and i%2:
                sym = "/\\"
            elif (j>3 and not(i%2)) or (j<3 and i%2):
                sym_size-=1
                dots+=1
        divider()
        i+=1
def main():
    n = int(input("Enter desired size of rocket: "))
    if n>0:
        headtail()
        divider()
        body(n)
        headtail()
main()        

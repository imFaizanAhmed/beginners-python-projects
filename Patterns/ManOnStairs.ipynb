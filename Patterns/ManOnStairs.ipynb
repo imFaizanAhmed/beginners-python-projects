#Question19
def man(l_n):
    out = ""
    j = 0
    if l_n ==0:
        while j <4:
            out+=" "
            if j ==1:
                out+="O"
            j+=1
    elif l_n == 1:
        while j<2:
            out+=" "
            if j==0:
                out+="/|\\"
            j+=1
    elif l_n ==2:
        while j<3:
            out+=" "
            if j==0:
                out+="/"
            elif j== 1:
                out+="\\"
            j+=1
    out+="*"
    return out
def step(i,n):
    out=man(i)
    if i==0:
        sym ="*"
    else:
        sym = " "
    j =0
    while j<n:
        out+=sym
        if j == 4:
            sym = " "
        j+=1
    out+="*"
    return out
def main():
    steps = int(input("Enter steps: "))
    sp =5*(steps-1)
    i = 0
    while i <steps:
        j = 0
        while j<3: 
            k = sp
            out = ""
            while k>0:
                out+=" "
                k-=1
            out+=step(j,5+(5*i))
            j+=1
            print (out)
        sp-=5
        i+=1
    out = ""
    i = 0
    while i < 7+5*steps:
        out+="*"
        i+=1
    print (out)
main()

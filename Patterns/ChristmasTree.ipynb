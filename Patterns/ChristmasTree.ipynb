#Question15
def triangle(seg,height):
    w_lim = 1
    s_lim = (seg+height)-2
    i = 0
    while i < seg:
        wid = w_lim
        sp = s_lim
        j = 0
        while j < height:
            s = ""
            k = sp
            while k>0:
                s+=" "
                k-=1
            k = 0
            while k<wid:
                s+='*'
                k+=1
            print (s)
            wid+=2
            sp-=1
            j+=1
        w_lim+=2
        s_lim-=1
        i+=1
    print (" "*((seg+height)-3),"*")
    print(" "*((seg+height)-3),"*")
    print(" "*((seg+height)-5),"*****")
seg = int(input("Enter number of segments: "))
height = int(input("Enter height of segment: "))
triangle(seg,height)
            
